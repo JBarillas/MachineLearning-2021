{
 "metadata": {
  "language_info": {
   "codemirror_mode": {
    "name": "ipython",
    "version": 3
   },
   "file_extension": ".py",
   "mimetype": "text/x-python",
   "name": "python",
   "nbconvert_exporter": "python",
   "pygments_lexer": "ipython3",
   "version": "3.8.4-final"
  },
  "orig_nbformat": 2,
  "kernelspec": {
   "name": "python3",
   "display_name": "Python 3.8.4 64-bit",
   "metadata": {
    "interpreter": {
     "hash": "17a8706fc35d97d3c46e03c6c0dec2a814f023703739eb6b058214cee89838bb"
    }
   }
  }
 },
 "nbformat": 4,
 "nbformat_minor": 2,
 "cells": [
  {
   "cell_type": "code",
   "execution_count": null,
   "metadata": {},
   "outputs": [],
   "source": [
    "import pandas as pd \n",
    "import numpy as np\n",
    "import matplotlib.pyplot as plt"
   ]
  },
  {
   "cell_type": "code",
   "execution_count": null,
   "metadata": {},
   "outputs": [],
   "source": [
    "df = pd.read_csv('Admission_Predict.csv')"
   ]
  },
  {
   "cell_type": "code",
   "execution_count": null,
   "metadata": {},
   "outputs": [],
   "source": [
    "def linear_cost(X, y, theta, lam):\n",
    "    h = X @ theta\n",
    "    regul = (lam/(2*X.shape[0])) * np.sum(theta**2)\n",
    "    return ((h - y) ** 2).sum() / (2*len(X)) + regul\n",
    "\n",
    "def linear_cost_gradient(X, y, theta, lam):\n",
    "    h = X @ theta\n",
    "    regul = lam * theta\n",
    "    return (((h - y).T @ X).T + regul)/ X.shape[0]\n",
    "\n",
    "def gradient_descent(\n",
    "    X, y, theta_0, \n",
    "    cost_function, cost_function_gradient,\n",
    "    learning_rate, threshold,\n",
    "    max_iter=1000, lam=5\n",
    "):\n",
    "    theta = theta_0\n",
    "    iteration = 0\n",
    "    costs = []\n",
    "    thetas = []\n",
    "\n",
    "    while np.linalg.norm(cost_function_gradient(X, y, theta, lam)) > threshold and iteration < max_iter:\n",
    "        iteration += 1\n",
    "        theta -= learning_rate * cost_function_gradient(X, y, theta, lam)\n",
    "        costs.append(cost_function(X, y, theta, lam))\n",
    "        thetas.append(theta.copy())\n",
    "\n",
    "    return theta, costs, thetas"
   ]
  },
  {
   "cell_type": "code",
   "execution_count": null,
   "metadata": {},
   "outputs": [],
   "source": []
  }
 ]
}