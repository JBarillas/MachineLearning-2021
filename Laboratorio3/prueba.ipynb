{
 "metadata": {
  "language_info": {
   "codemirror_mode": {
    "name": "ipython",
    "version": 3
   },
   "file_extension": ".py",
   "mimetype": "text/x-python",
   "name": "python",
   "nbconvert_exporter": "python",
   "pygments_lexer": "ipython3",
   "version": "3.8.4-final"
  },
  "orig_nbformat": 2,
  "kernelspec": {
   "name": "python3",
   "display_name": "Python 3.8.4 64-bit",
   "metadata": {
    "interpreter": {
     "hash": "17a8706fc35d97d3c46e03c6c0dec2a814f023703739eb6b058214cee89838bb"
    }
   }
  }
 },
 "nbformat": 4,
 "nbformat_minor": 2,
 "cells": [
  {
   "cell_type": "code",
   "execution_count": 1,
   "metadata": {},
   "outputs": [],
   "source": [
    "#Libraries\n",
    "import numpy as np\n",
    "import pandas as pd\n",
    "import matplotlib.pyplot as plt\n",
    "import math\n"
   ]
  },
  {
   "cell_type": "code",
   "execution_count": 2,
   "metadata": {},
   "outputs": [],
   "source": [
    "# data ---------------------------\n",
    "df = pd.read_csv('satgpa.csv')\n",
    "\n",
    "# equations ----------------------\n",
    "def linear_cost(X, y, theta):\n",
    "    h = X @ theta\n",
    "    return ((h - y) ** 2).sum() / (2*len(X))\n",
    "\n",
    "def linear_cost_gradient(X, y, theta):\n",
    "    h = X @ theta\n",
    "    return ((h - y).T @ X).T / (2*len(X))\n",
    "\n",
    "def gradient_descent(\n",
    "    X, y, theta_0, \n",
    "    cost_function, cost_function_gradient,\n",
    "    learning_rate=0.01, \n",
    "    threshold=0.001,\n",
    "    max_iter=1000\n",
    "):\n",
    "    theta = theta_0\n",
    "    iteration = 0\n",
    "    history = []\n",
    "    while np.linalg.norm(cost_function_gradient(X, y, theta)) > threshold and iteration < max_iter:\n",
    "        iteration += 1\n",
    "        theta -= learning_rate * cost_function_gradient(X, y, theta)\n",
    "        history.append(theta - learning_rate * cost_function_gradient(X, y, theta))\n",
    "\n",
    "    return theta, history\n"
   ]
  },
  {
   "cell_type": "code",
   "execution_count": 3,
   "metadata": {},
   "outputs": [
    {
     "output_type": "execute_result",
     "data": {
      "text/plain": [
       "   sex  sat_v  sat_m  sat_sum  hs_gpa  fy_gpa\n",
       "0    1     65     62      127    3.40    3.18\n",
       "1    2     58     64      122    4.00    3.33\n",
       "2    2     56     60      116    3.75    3.25\n",
       "3    1     42     53       95    3.75    2.42\n",
       "4    1     55     52      107    4.00    2.63"
      ],
      "text/html": "<div>\n<style scoped>\n    .dataframe tbody tr th:only-of-type {\n        vertical-align: middle;\n    }\n\n    .dataframe tbody tr th {\n        vertical-align: top;\n    }\n\n    .dataframe thead th {\n        text-align: right;\n    }\n</style>\n<table border=\"1\" class=\"dataframe\">\n  <thead>\n    <tr style=\"text-align: right;\">\n      <th></th>\n      <th>sex</th>\n      <th>sat_v</th>\n      <th>sat_m</th>\n      <th>sat_sum</th>\n      <th>hs_gpa</th>\n      <th>fy_gpa</th>\n    </tr>\n  </thead>\n  <tbody>\n    <tr>\n      <th>0</th>\n      <td>1</td>\n      <td>65</td>\n      <td>62</td>\n      <td>127</td>\n      <td>3.40</td>\n      <td>3.18</td>\n    </tr>\n    <tr>\n      <th>1</th>\n      <td>2</td>\n      <td>58</td>\n      <td>64</td>\n      <td>122</td>\n      <td>4.00</td>\n      <td>3.33</td>\n    </tr>\n    <tr>\n      <th>2</th>\n      <td>2</td>\n      <td>56</td>\n      <td>60</td>\n      <td>116</td>\n      <td>3.75</td>\n      <td>3.25</td>\n    </tr>\n    <tr>\n      <th>3</th>\n      <td>1</td>\n      <td>42</td>\n      <td>53</td>\n      <td>95</td>\n      <td>3.75</td>\n      <td>2.42</td>\n    </tr>\n    <tr>\n      <th>4</th>\n      <td>1</td>\n      <td>55</td>\n      <td>52</td>\n      <td>107</td>\n      <td>4.00</td>\n      <td>2.63</td>\n    </tr>\n  </tbody>\n</table>\n</div>"
     },
     "metadata": {},
     "execution_count": 3
    }
   ],
   "source": [
    "df.head()"
   ]
  },
  {
   "cell_type": "code",
   "execution_count": 4,
   "metadata": {},
   "outputs": [
    {
     "output_type": "execute_result",
     "data": {
      "text/plain": [
       "sex        1000\n",
       "sat_v      1000\n",
       "sat_m      1000\n",
       "sat_sum    1000\n",
       "hs_gpa     1000\n",
       "fy_gpa     1000\n",
       "dtype: int64"
      ]
     },
     "metadata": {},
     "execution_count": 4
    }
   ],
   "source": [
    "df.count()"
   ]
  },
  {
   "cell_type": "code",
   "execution_count": 7,
   "metadata": {},
   "outputs": [],
   "source": [
    "#armamos las matrices para Gradient descent\n",
    "x = df.copy()"
   ]
  },
  {
   "cell_type": "code",
   "execution_count": 9,
   "metadata": {},
   "outputs": [],
   "source": [
    "y = np.array(df['fy_gpa']).reshape(len(x),1)"
   ]
  },
  {
   "cell_type": "code",
   "execution_count": 13,
   "metadata": {},
   "outputs": [
    {
     "output_type": "execute_result",
     "data": {
      "text/plain": [
       "(1000, 6)"
      ]
     },
     "metadata": {},
     "execution_count": 13
    }
   ],
   "source": [
    "x.shape"
   ]
  },
  {
   "cell_type": "code",
   "execution_count": 14,
   "metadata": {},
   "outputs": [
    {
     "output_type": "execute_result",
     "data": {
      "text/plain": [
       "(1000, 1)"
      ]
     },
     "metadata": {},
     "execution_count": 14
    }
   ],
   "source": [
    "y.shape"
   ]
  },
  {
   "cell_type": "code",
   "execution_count": 16,
   "metadata": {},
   "outputs": [
    {
     "output_type": "execute_result",
     "data": {
      "text/plain": [
       "     sex  sat_v  sat_m  sat_sum  hs_gpa  fy_gpa\n",
       "0      1     65     62      127    3.40    3.18\n",
       "1      2     58     64      122    4.00    3.33\n",
       "2      2     56     60      116    3.75    3.25\n",
       "3      1     42     53       95    3.75    2.42\n",
       "4      1     55     52      107    4.00    2.63\n",
       "..   ...    ...    ...      ...     ...     ...\n",
       "995    2     50     50      100    3.70    2.19\n",
       "996    1     54     54      108    3.30    1.50\n",
       "997    1     56     58      114    3.50    3.17\n",
       "998    1     55     65      120    2.30    1.94\n",
       "999    1     49     44       93    2.70    2.38\n",
       "\n",
       "[1000 rows x 6 columns]"
      ],
      "text/html": "<div>\n<style scoped>\n    .dataframe tbody tr th:only-of-type {\n        vertical-align: middle;\n    }\n\n    .dataframe tbody tr th {\n        vertical-align: top;\n    }\n\n    .dataframe thead th {\n        text-align: right;\n    }\n</style>\n<table border=\"1\" class=\"dataframe\">\n  <thead>\n    <tr style=\"text-align: right;\">\n      <th></th>\n      <th>sex</th>\n      <th>sat_v</th>\n      <th>sat_m</th>\n      <th>sat_sum</th>\n      <th>hs_gpa</th>\n      <th>fy_gpa</th>\n    </tr>\n  </thead>\n  <tbody>\n    <tr>\n      <th>0</th>\n      <td>1</td>\n      <td>65</td>\n      <td>62</td>\n      <td>127</td>\n      <td>3.40</td>\n      <td>3.18</td>\n    </tr>\n    <tr>\n      <th>1</th>\n      <td>2</td>\n      <td>58</td>\n      <td>64</td>\n      <td>122</td>\n      <td>4.00</td>\n      <td>3.33</td>\n    </tr>\n    <tr>\n      <th>2</th>\n      <td>2</td>\n      <td>56</td>\n      <td>60</td>\n      <td>116</td>\n      <td>3.75</td>\n      <td>3.25</td>\n    </tr>\n    <tr>\n      <th>3</th>\n      <td>1</td>\n      <td>42</td>\n      <td>53</td>\n      <td>95</td>\n      <td>3.75</td>\n      <td>2.42</td>\n    </tr>\n    <tr>\n      <th>4</th>\n      <td>1</td>\n      <td>55</td>\n      <td>52</td>\n      <td>107</td>\n      <td>4.00</td>\n      <td>2.63</td>\n    </tr>\n    <tr>\n      <th>...</th>\n      <td>...</td>\n      <td>...</td>\n      <td>...</td>\n      <td>...</td>\n      <td>...</td>\n      <td>...</td>\n    </tr>\n    <tr>\n      <th>995</th>\n      <td>2</td>\n      <td>50</td>\n      <td>50</td>\n      <td>100</td>\n      <td>3.70</td>\n      <td>2.19</td>\n    </tr>\n    <tr>\n      <th>996</th>\n      <td>1</td>\n      <td>54</td>\n      <td>54</td>\n      <td>108</td>\n      <td>3.30</td>\n      <td>1.50</td>\n    </tr>\n    <tr>\n      <th>997</th>\n      <td>1</td>\n      <td>56</td>\n      <td>58</td>\n      <td>114</td>\n      <td>3.50</td>\n      <td>3.17</td>\n    </tr>\n    <tr>\n      <th>998</th>\n      <td>1</td>\n      <td>55</td>\n      <td>65</td>\n      <td>120</td>\n      <td>2.30</td>\n      <td>1.94</td>\n    </tr>\n    <tr>\n      <th>999</th>\n      <td>1</td>\n      <td>49</td>\n      <td>44</td>\n      <td>93</td>\n      <td>2.70</td>\n      <td>2.38</td>\n    </tr>\n  </tbody>\n</table>\n<p>1000 rows × 6 columns</p>\n</div>"
     },
     "metadata": {},
     "execution_count": 16
    }
   ],
   "source": [
    "x\n",
    "#Tenemos que remover las columns"
   ]
  },
  {
   "cell_type": "code",
   "execution_count": 17,
   "metadata": {},
   "outputs": [],
   "source": [
    "x.drop(columns=['sat_v','sat_m','fy_gpa'], inplace=True)"
   ]
  },
  {
   "cell_type": "code",
   "execution_count": 18,
   "metadata": {},
   "outputs": [
    {
     "output_type": "execute_result",
     "data": {
      "text/plain": [
       "     sex  sat_sum  hs_gpa\n",
       "0      1      127    3.40\n",
       "1      2      122    4.00\n",
       "2      2      116    3.75\n",
       "3      1       95    3.75\n",
       "4      1      107    4.00\n",
       "..   ...      ...     ...\n",
       "995    2      100    3.70\n",
       "996    1      108    3.30\n",
       "997    1      114    3.50\n",
       "998    1      120    2.30\n",
       "999    1       93    2.70\n",
       "\n",
       "[1000 rows x 3 columns]"
      ],
      "text/html": "<div>\n<style scoped>\n    .dataframe tbody tr th:only-of-type {\n        vertical-align: middle;\n    }\n\n    .dataframe tbody tr th {\n        vertical-align: top;\n    }\n\n    .dataframe thead th {\n        text-align: right;\n    }\n</style>\n<table border=\"1\" class=\"dataframe\">\n  <thead>\n    <tr style=\"text-align: right;\">\n      <th></th>\n      <th>sex</th>\n      <th>sat_sum</th>\n      <th>hs_gpa</th>\n    </tr>\n  </thead>\n  <tbody>\n    <tr>\n      <th>0</th>\n      <td>1</td>\n      <td>127</td>\n      <td>3.40</td>\n    </tr>\n    <tr>\n      <th>1</th>\n      <td>2</td>\n      <td>122</td>\n      <td>4.00</td>\n    </tr>\n    <tr>\n      <th>2</th>\n      <td>2</td>\n      <td>116</td>\n      <td>3.75</td>\n    </tr>\n    <tr>\n      <th>3</th>\n      <td>1</td>\n      <td>95</td>\n      <td>3.75</td>\n    </tr>\n    <tr>\n      <th>4</th>\n      <td>1</td>\n      <td>107</td>\n      <td>4.00</td>\n    </tr>\n    <tr>\n      <th>...</th>\n      <td>...</td>\n      <td>...</td>\n      <td>...</td>\n    </tr>\n    <tr>\n      <th>995</th>\n      <td>2</td>\n      <td>100</td>\n      <td>3.70</td>\n    </tr>\n    <tr>\n      <th>996</th>\n      <td>1</td>\n      <td>108</td>\n      <td>3.30</td>\n    </tr>\n    <tr>\n      <th>997</th>\n      <td>1</td>\n      <td>114</td>\n      <td>3.50</td>\n    </tr>\n    <tr>\n      <th>998</th>\n      <td>1</td>\n      <td>120</td>\n      <td>2.30</td>\n    </tr>\n    <tr>\n      <th>999</th>\n      <td>1</td>\n      <td>93</td>\n      <td>2.70</td>\n    </tr>\n  </tbody>\n</table>\n<p>1000 rows × 3 columns</p>\n</div>"
     },
     "metadata": {},
     "execution_count": 18
    }
   ],
   "source": [
    "x"
   ]
  },
  {
   "cell_type": "code",
   "execution_count": null,
   "metadata": {},
   "outputs": [],
   "source": []
  }
 ]
}